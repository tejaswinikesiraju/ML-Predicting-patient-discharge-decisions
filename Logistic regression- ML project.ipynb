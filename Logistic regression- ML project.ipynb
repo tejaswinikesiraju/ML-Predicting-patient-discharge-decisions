{
 "cells": [
  {
   "cell_type": "code",
   "execution_count": 1,
   "id": "58aeb55e",
   "metadata": {},
   "outputs": [],
   "source": [
    "#importing required libraries\n",
    "import pandas as pd\n",
    "import numpy as np\n",
    "import matplotlib.pyplot as plt\n",
    "%matplotlib inline\n",
    "import seaborn as sns"
   ]
  },
  {
   "cell_type": "code",
   "execution_count": null,
   "id": "3c546593",
   "metadata": {},
   "outputs": [],
   "source": [
    "#S (patient prepared to go home),\n",
    "#A (patient sent to general hospital floor)"
   ]
  },
  {
   "cell_type": "code",
   "execution_count": 2,
   "id": "76c790fa",
   "metadata": {},
   "outputs": [
    {
     "name": "stdout",
     "output_type": "stream",
     "text": [
      "C:\\Users\\KESIRAJU TEJASWINI\\Documents\n"
     ]
    }
   ],
   "source": [
    "import io\n",
    "%cd \"C:\\Users\\KESIRAJU TEJASWINI\\Documents\\\""
   ]
  },
  {
   "cell_type": "code",
   "execution_count": 3,
   "id": "9322f13c",
   "metadata": {},
   "outputs": [],
   "source": [
    "df =pd.read_excel(\"MLdata.xlsx\")"
   ]
  },
  {
   "cell_type": "code",
   "execution_count": 4,
   "id": "a37a5b81",
   "metadata": {},
   "outputs": [
    {
     "data": {
      "text/plain": [
       "Index(['L-CORE', 'L-SURF', 'L-O2', 'L-BP', 'SURF-STBL', 'CORE-STBL',\n",
       "       'CORE-STBL.1', 'CORE-STBL.2', 'decision-ADM-DECS'],\n",
       "      dtype='object')"
      ]
     },
     "execution_count": 4,
     "metadata": {},
     "output_type": "execute_result"
    }
   ],
   "source": [
    "df.columns"
   ]
  },
  {
   "cell_type": "code",
   "execution_count": 56,
   "id": "d303278d",
   "metadata": {},
   "outputs": [
    {
     "data": {
      "text/html": [
       "<div>\n",
       "<style scoped>\n",
       "    .dataframe tbody tr th:only-of-type {\n",
       "        vertical-align: middle;\n",
       "    }\n",
       "\n",
       "    .dataframe tbody tr th {\n",
       "        vertical-align: top;\n",
       "    }\n",
       "\n",
       "    .dataframe thead th {\n",
       "        text-align: right;\n",
       "    }\n",
       "</style>\n",
       "<table border=\"1\" class=\"dataframe\">\n",
       "  <thead>\n",
       "    <tr style=\"text-align: right;\">\n",
       "      <th></th>\n",
       "      <th>L-CORE</th>\n",
       "      <th>L-SURF</th>\n",
       "      <th>L-O2</th>\n",
       "      <th>L-BP</th>\n",
       "      <th>SURF-STBL</th>\n",
       "      <th>CORE-STBL</th>\n",
       "      <th>CORE-STBL.1</th>\n",
       "      <th>CORE-STBL.2</th>\n",
       "      <th>decision-ADM-DECS</th>\n",
       "    </tr>\n",
       "  </thead>\n",
       "  <tbody>\n",
       "    <tr>\n",
       "      <th>0</th>\n",
       "      <td>mid</td>\n",
       "      <td>low</td>\n",
       "      <td>excellent</td>\n",
       "      <td>mid</td>\n",
       "      <td>stable</td>\n",
       "      <td>stable</td>\n",
       "      <td>stable</td>\n",
       "      <td>15</td>\n",
       "      <td>A</td>\n",
       "    </tr>\n",
       "    <tr>\n",
       "      <th>1</th>\n",
       "      <td>mid</td>\n",
       "      <td>high</td>\n",
       "      <td>excellent</td>\n",
       "      <td>high</td>\n",
       "      <td>stable</td>\n",
       "      <td>stable</td>\n",
       "      <td>stable</td>\n",
       "      <td>10</td>\n",
       "      <td>S</td>\n",
       "    </tr>\n",
       "    <tr>\n",
       "      <th>2</th>\n",
       "      <td>high</td>\n",
       "      <td>low</td>\n",
       "      <td>excellent</td>\n",
       "      <td>high</td>\n",
       "      <td>stable</td>\n",
       "      <td>stable</td>\n",
       "      <td>mod-stable</td>\n",
       "      <td>10</td>\n",
       "      <td>A</td>\n",
       "    </tr>\n",
       "    <tr>\n",
       "      <th>3</th>\n",
       "      <td>mid</td>\n",
       "      <td>low</td>\n",
       "      <td>good</td>\n",
       "      <td>high</td>\n",
       "      <td>stable</td>\n",
       "      <td>unstable</td>\n",
       "      <td>mod-stable</td>\n",
       "      <td>15</td>\n",
       "      <td>A</td>\n",
       "    </tr>\n",
       "    <tr>\n",
       "      <th>4</th>\n",
       "      <td>mid</td>\n",
       "      <td>mid</td>\n",
       "      <td>excellent</td>\n",
       "      <td>high</td>\n",
       "      <td>stable</td>\n",
       "      <td>stable</td>\n",
       "      <td>stable</td>\n",
       "      <td>10</td>\n",
       "      <td>A</td>\n",
       "    </tr>\n",
       "  </tbody>\n",
       "</table>\n",
       "</div>"
      ],
      "text/plain": [
       "  L-CORE L-SURF       L-O2  L-BP SURF-STBL CORE-STBL CORE-STBL.1  CORE-STBL.2  \\\n",
       "0    mid    low  excellent   mid    stable    stable      stable           15   \n",
       "1    mid   high  excellent  high    stable    stable      stable           10   \n",
       "2   high    low  excellent  high    stable    stable  mod-stable           10   \n",
       "3    mid    low       good  high    stable  unstable  mod-stable           15   \n",
       "4    mid    mid  excellent  high    stable    stable      stable           10   \n",
       "\n",
       "  decision-ADM-DECS  \n",
       "0                 A  \n",
       "1                 S  \n",
       "2                 A  \n",
       "3                 A  \n",
       "4                 A  "
      ]
     },
     "execution_count": 56,
     "metadata": {},
     "output_type": "execute_result"
    }
   ],
   "source": [
    "df.head()"
   ]
  },
  {
   "cell_type": "code",
   "execution_count": 5,
   "id": "52ee9305",
   "metadata": {},
   "outputs": [],
   "source": [
    "X= df.drop(['decision-ADM-DECS'],axis=1)\n",
    "y = df['decision-ADM-DECS']"
   ]
  },
  {
   "cell_type": "code",
   "execution_count": 6,
   "id": "9f3c8807",
   "metadata": {},
   "outputs": [],
   "source": [
    "X = pd.get_dummies(X, drop_first = True)"
   ]
  },
  {
   "cell_type": "code",
   "execution_count": 57,
   "id": "2a151ca8",
   "metadata": {},
   "outputs": [
    {
     "data": {
      "text/html": [
       "<div>\n",
       "<style scoped>\n",
       "    .dataframe tbody tr th:only-of-type {\n",
       "        vertical-align: middle;\n",
       "    }\n",
       "\n",
       "    .dataframe tbody tr th {\n",
       "        vertical-align: top;\n",
       "    }\n",
       "\n",
       "    .dataframe thead th {\n",
       "        text-align: right;\n",
       "    }\n",
       "</style>\n",
       "<table border=\"1\" class=\"dataframe\">\n",
       "  <thead>\n",
       "    <tr style=\"text-align: right;\">\n",
       "      <th></th>\n",
       "      <th>CORE-STBL.2</th>\n",
       "      <th>L-CORE_low</th>\n",
       "      <th>L-CORE_mid</th>\n",
       "      <th>L-SURF_low</th>\n",
       "      <th>L-SURF_mid</th>\n",
       "      <th>L-O2_good</th>\n",
       "      <th>L-BP_mid</th>\n",
       "      <th>SURF-STBL_unstable</th>\n",
       "      <th>CORE-STBL_unstable</th>\n",
       "      <th>CORE-STBL.1_stable</th>\n",
       "      <th>CORE-STBL.1_unstable</th>\n",
       "    </tr>\n",
       "  </thead>\n",
       "  <tbody>\n",
       "    <tr>\n",
       "      <th>0</th>\n",
       "      <td>15</td>\n",
       "      <td>0</td>\n",
       "      <td>1</td>\n",
       "      <td>1</td>\n",
       "      <td>0</td>\n",
       "      <td>0</td>\n",
       "      <td>1</td>\n",
       "      <td>0</td>\n",
       "      <td>0</td>\n",
       "      <td>1</td>\n",
       "      <td>0</td>\n",
       "    </tr>\n",
       "    <tr>\n",
       "      <th>1</th>\n",
       "      <td>10</td>\n",
       "      <td>0</td>\n",
       "      <td>1</td>\n",
       "      <td>0</td>\n",
       "      <td>0</td>\n",
       "      <td>0</td>\n",
       "      <td>0</td>\n",
       "      <td>0</td>\n",
       "      <td>0</td>\n",
       "      <td>1</td>\n",
       "      <td>0</td>\n",
       "    </tr>\n",
       "    <tr>\n",
       "      <th>2</th>\n",
       "      <td>10</td>\n",
       "      <td>0</td>\n",
       "      <td>0</td>\n",
       "      <td>1</td>\n",
       "      <td>0</td>\n",
       "      <td>0</td>\n",
       "      <td>0</td>\n",
       "      <td>0</td>\n",
       "      <td>0</td>\n",
       "      <td>0</td>\n",
       "      <td>0</td>\n",
       "    </tr>\n",
       "    <tr>\n",
       "      <th>3</th>\n",
       "      <td>15</td>\n",
       "      <td>0</td>\n",
       "      <td>1</td>\n",
       "      <td>1</td>\n",
       "      <td>0</td>\n",
       "      <td>1</td>\n",
       "      <td>0</td>\n",
       "      <td>0</td>\n",
       "      <td>1</td>\n",
       "      <td>0</td>\n",
       "      <td>0</td>\n",
       "    </tr>\n",
       "    <tr>\n",
       "      <th>4</th>\n",
       "      <td>10</td>\n",
       "      <td>0</td>\n",
       "      <td>1</td>\n",
       "      <td>0</td>\n",
       "      <td>1</td>\n",
       "      <td>0</td>\n",
       "      <td>0</td>\n",
       "      <td>0</td>\n",
       "      <td>0</td>\n",
       "      <td>1</td>\n",
       "      <td>0</td>\n",
       "    </tr>\n",
       "  </tbody>\n",
       "</table>\n",
       "</div>"
      ],
      "text/plain": [
       "   CORE-STBL.2  L-CORE_low  L-CORE_mid  L-SURF_low  L-SURF_mid  L-O2_good  \\\n",
       "0           15           0           1           1           0          0   \n",
       "1           10           0           1           0           0          0   \n",
       "2           10           0           0           1           0          0   \n",
       "3           15           0           1           1           0          1   \n",
       "4           10           0           1           0           1          0   \n",
       "\n",
       "   L-BP_mid  SURF-STBL_unstable  CORE-STBL_unstable  CORE-STBL.1_stable  \\\n",
       "0         1                   0                   0                   1   \n",
       "1         0                   0                   0                   1   \n",
       "2         0                   0                   0                   0   \n",
       "3         0                   0                   1                   0   \n",
       "4         0                   0                   0                   1   \n",
       "\n",
       "   CORE-STBL.1_unstable  \n",
       "0                     0  \n",
       "1                     0  \n",
       "2                     0  \n",
       "3                     0  \n",
       "4                     0  "
      ]
     },
     "execution_count": 57,
     "metadata": {},
     "output_type": "execute_result"
    }
   ],
   "source": [
    "X.head()"
   ]
  },
  {
   "cell_type": "code",
   "execution_count": 7,
   "id": "bd926e2b",
   "metadata": {},
   "outputs": [],
   "source": [
    "y = pd.get_dummies(y, drop_first = True)"
   ]
  },
  {
   "cell_type": "code",
   "execution_count": 58,
   "id": "e4b65d24",
   "metadata": {},
   "outputs": [
    {
     "data": {
      "text/html": [
       "<div>\n",
       "<style scoped>\n",
       "    .dataframe tbody tr th:only-of-type {\n",
       "        vertical-align: middle;\n",
       "    }\n",
       "\n",
       "    .dataframe tbody tr th {\n",
       "        vertical-align: top;\n",
       "    }\n",
       "\n",
       "    .dataframe thead th {\n",
       "        text-align: right;\n",
       "    }\n",
       "</style>\n",
       "<table border=\"1\" class=\"dataframe\">\n",
       "  <thead>\n",
       "    <tr style=\"text-align: right;\">\n",
       "      <th></th>\n",
       "      <th>S</th>\n",
       "    </tr>\n",
       "  </thead>\n",
       "  <tbody>\n",
       "    <tr>\n",
       "      <th>0</th>\n",
       "      <td>0</td>\n",
       "    </tr>\n",
       "    <tr>\n",
       "      <th>1</th>\n",
       "      <td>1</td>\n",
       "    </tr>\n",
       "    <tr>\n",
       "      <th>2</th>\n",
       "      <td>0</td>\n",
       "    </tr>\n",
       "    <tr>\n",
       "      <th>3</th>\n",
       "      <td>0</td>\n",
       "    </tr>\n",
       "    <tr>\n",
       "      <th>4</th>\n",
       "      <td>0</td>\n",
       "    </tr>\n",
       "  </tbody>\n",
       "</table>\n",
       "</div>"
      ],
      "text/plain": [
       "   S\n",
       "0  0\n",
       "1  1\n",
       "2  0\n",
       "3  0\n",
       "4  0"
      ]
     },
     "execution_count": 58,
     "metadata": {},
     "output_type": "execute_result"
    }
   ],
   "source": [
    "y.head()"
   ]
  },
  {
   "cell_type": "code",
   "execution_count": 9,
   "id": "c17e9825",
   "metadata": {},
   "outputs": [],
   "source": [
    "from sklearn.model_selection import train_test_split"
   ]
  },
  {
   "cell_type": "code",
   "execution_count": 10,
   "id": "e2f249e6",
   "metadata": {},
   "outputs": [],
   "source": [
    "#Before training the model we have split our data into Actual Train and Actual Test Dataset for training and validating purpose\n",
    "Xtrain, Xtest, Ytrain, Ytest = train_test_split(X, y, test_size=0.30, random_state=42)"
   ]
  },
  {
   "cell_type": "code",
   "execution_count": 11,
   "id": "ece864f2",
   "metadata": {},
   "outputs": [],
   "source": [
    "# train a logistic regression model on the training set\n",
    "from sklearn.linear_model import LogisticRegression"
   ]
  },
  {
   "cell_type": "code",
   "execution_count": 12,
   "id": "3984ad0a",
   "metadata": {},
   "outputs": [],
   "source": [
    "# instantiate the model\n",
    "logreg = LogisticRegression(solver='liblinear', random_state=42)"
   ]
  },
  {
   "cell_type": "code",
   "execution_count": 14,
   "id": "b5f3c99e",
   "metadata": {},
   "outputs": [
    {
     "name": "stderr",
     "output_type": "stream",
     "text": [
      "C:\\Users\\KESIRAJU TEJASWINI\\.conda\\lib\\site-packages\\sklearn\\utils\\validation.py:993: DataConversionWarning: A column-vector y was passed when a 1d array was expected. Please change the shape of y to (n_samples, ), for example using ravel().\n",
      "  y = column_or_1d(y, warn=True)\n"
     ]
    },
    {
     "data": {
      "text/plain": [
       "LogisticRegression(random_state=42, solver='liblinear')"
      ]
     },
     "execution_count": 14,
     "metadata": {},
     "output_type": "execute_result"
    }
   ],
   "source": [
    "# fit the model\n",
    "logreg.fit(Xtrain, Ytrain)"
   ]
  },
  {
   "cell_type": "code",
   "execution_count": 15,
   "id": "82ec5213",
   "metadata": {},
   "outputs": [],
   "source": [
    "#predict results"
   ]
  },
  {
   "cell_type": "code",
   "execution_count": 16,
   "id": "ebe3db86",
   "metadata": {},
   "outputs": [
    {
     "data": {
      "text/plain": [
       "array([0, 0, 0, 0, 0, 0, 0, 0, 0, 0, 0, 0, 0, 0, 0, 0, 0, 0, 0, 0, 0, 0,\n",
       "       0, 0, 1, 0, 0], dtype=uint8)"
      ]
     },
     "execution_count": 16,
     "metadata": {},
     "output_type": "execute_result"
    }
   ],
   "source": [
    "y_pred_test = logreg.predict(Xtest)\n",
    "\n",
    "y_pred_test"
   ]
  },
  {
   "cell_type": "code",
   "execution_count": 17,
   "id": "95c7231b",
   "metadata": {},
   "outputs": [
    {
     "data": {
      "text/plain": [
       "array([0.51415427, 0.73913945, 0.64640623, 0.58357639, 0.57303281,\n",
       "       0.57753519, 0.78117402, 0.6603339 , 0.59003837, 0.50463874,\n",
       "       0.59340787, 0.54413303, 0.74215938, 0.69090596, 0.83420861,\n",
       "       0.70388378, 0.76129589, 0.73173123, 0.6305192 , 0.64912925,\n",
       "       0.70388378, 0.59340787, 0.67844932, 0.71175808, 0.47652373,\n",
       "       0.68187431, 0.58571033])"
      ]
     },
     "execution_count": 17,
     "metadata": {},
     "output_type": "execute_result"
    }
   ],
   "source": [
    "# probability of getting output as 0 \n",
    "logreg.predict_proba(Xtest)[:,0]"
   ]
  },
  {
   "cell_type": "code",
   "execution_count": 18,
   "id": "5b140681",
   "metadata": {},
   "outputs": [
    {
     "data": {
      "text/plain": [
       "array([0.48584573, 0.26086055, 0.35359377, 0.41642361, 0.42696719,\n",
       "       0.42246481, 0.21882598, 0.3396661 , 0.40996163, 0.49536126,\n",
       "       0.40659213, 0.45586697, 0.25784062, 0.30909404, 0.16579139,\n",
       "       0.29611622, 0.23870411, 0.26826877, 0.3694808 , 0.35087075,\n",
       "       0.29611622, 0.40659213, 0.32155068, 0.28824192, 0.52347627,\n",
       "       0.31812569, 0.41428967])"
      ]
     },
     "execution_count": 18,
     "metadata": {},
     "output_type": "execute_result"
    }
   ],
   "source": [
    "# probability of getting output as 1 - rain\n",
    "logreg.predict_proba(Xtest)[:,1]"
   ]
  },
  {
   "cell_type": "code",
   "execution_count": 21,
   "id": "6a941ee5",
   "metadata": {},
   "outputs": [
    {
     "name": "stdout",
     "output_type": "stream",
     "text": [
      "Model accuracy score: 0.8519\n"
     ]
    }
   ],
   "source": [
    "from sklearn.metrics import accuracy_score\n",
    "print('Model accuracy score: {0:0.4f}'. format(accuracy_score(Ytest, y_pred_test)))"
   ]
  },
  {
   "cell_type": "code",
   "execution_count": 24,
   "id": "6823d66e",
   "metadata": {},
   "outputs": [
    {
     "name": "stdout",
     "output_type": "stream",
     "text": [
      "Training set score: 0.6984\n",
      "Test set score: 0.8519\n"
     ]
    }
   ],
   "source": [
    "# print the scores on training and test set\n",
    "\n",
    "print('Training set score: {:.4f}'.format(logreg.score(Xtrain, Ytrain)))\n",
    "\n",
    "print('Test set score: {:.4f}'.format(logreg.score(Xtest, Ytest)))"
   ]
  },
  {
   "cell_type": "code",
   "execution_count": 25,
   "id": "b0f913cd",
   "metadata": {},
   "outputs": [
    {
     "name": "stderr",
     "output_type": "stream",
     "text": [
      "C:\\Users\\KESIRAJU TEJASWINI\\.conda\\lib\\site-packages\\sklearn\\utils\\validation.py:993: DataConversionWarning: A column-vector y was passed when a 1d array was expected. Please change the shape of y to (n_samples, ), for example using ravel().\n",
      "  y = column_or_1d(y, warn=True)\n"
     ]
    },
    {
     "data": {
      "text/plain": [
       "LogisticRegression(C=100, random_state=42, solver='liblinear')"
      ]
     },
     "execution_count": 25,
     "metadata": {},
     "output_type": "execute_result"
    }
   ],
   "source": [
    "# fit the Logsitic Regression model with C=100\n",
    "\n",
    "# instantiate the model\n",
    "logreg100 = LogisticRegression(C=100, solver='liblinear', random_state=42)\n",
    "\n",
    "# fit the model\n",
    "logreg100.fit(Xtrain, Ytrain)"
   ]
  },
  {
   "cell_type": "code",
   "execution_count": 26,
   "id": "04ddee6e",
   "metadata": {},
   "outputs": [
    {
     "name": "stdout",
     "output_type": "stream",
     "text": [
      "Training set score: 0.7143\n",
      "Test set score: 0.6667\n"
     ]
    }
   ],
   "source": [
    "# print the scores on training and test set\n",
    "\n",
    "print('Training set score: {:.4f}'.format(logreg100.score(Xtrain, Ytrain)))\n",
    "\n",
    "print('Test set score: {:.4f}'.format(logreg100.score(Xtest, Ytest)))"
   ]
  },
  {
   "cell_type": "code",
   "execution_count": 27,
   "id": "6a9ad62a",
   "metadata": {},
   "outputs": [
    {
     "name": "stderr",
     "output_type": "stream",
     "text": [
      "C:\\Users\\KESIRAJU TEJASWINI\\.conda\\lib\\site-packages\\sklearn\\utils\\validation.py:993: DataConversionWarning: A column-vector y was passed when a 1d array was expected. Please change the shape of y to (n_samples, ), for example using ravel().\n",
      "  y = column_or_1d(y, warn=True)\n"
     ]
    },
    {
     "data": {
      "text/plain": [
       "LogisticRegression(C=0.01, random_state=0, solver='liblinear')"
      ]
     },
     "execution_count": 27,
     "metadata": {},
     "output_type": "execute_result"
    }
   ],
   "source": [
    "# fit the Logsitic Regression model with C=001\n",
    "\n",
    "# instantiate the model\n",
    "logreg001 = LogisticRegression(C=0.01, solver='liblinear', random_state=0)\n",
    "\n",
    "\n",
    "# fit the model\n",
    "logreg001.fit(Xtrain, Ytrain)"
   ]
  },
  {
   "cell_type": "code",
   "execution_count": 28,
   "id": "012704a7",
   "metadata": {},
   "outputs": [
    {
     "name": "stdout",
     "output_type": "stream",
     "text": [
      "Training set score: 0.6667\n",
      "Test set score: 0.8889\n"
     ]
    }
   ],
   "source": [
    "# print the scores on training and test set\n",
    "\n",
    "print('Training set score: {:.4f}'.format(logreg001.score(Xtrain, Ytrain)))\n",
    "\n",
    "print('Test set score: {:.4f}'.format(logreg001.score(Xtest, Ytest)))"
   ]
  },
  {
   "cell_type": "code",
   "execution_count": 29,
   "id": "74f1abb9",
   "metadata": {},
   "outputs": [],
   "source": [
    "#Compare model accuracy with null accuracy\n",
    "#So, the model accuracy is 0.8519. But, we cannot say that our model is very good based on the above accuracy.\n",
    "#We must compare it with the null accuracy.\n",
    "#Null accuracy is the accuracy that could be achieved by always predicting the most frequent class."
   ]
  },
  {
   "cell_type": "code",
   "execution_count": 30,
   "id": "39858001",
   "metadata": {},
   "outputs": [
    {
     "data": {
      "text/plain": [
       "S\n",
       "0    24\n",
       "1     3\n",
       "dtype: int64"
      ]
     },
     "execution_count": 30,
     "metadata": {},
     "output_type": "execute_result"
    }
   ],
   "source": [
    "# check class distribution in test set\n",
    "Ytest.value_counts()"
   ]
  },
  {
   "cell_type": "code",
   "execution_count": 31,
   "id": "36ccb283",
   "metadata": {},
   "outputs": [
    {
     "name": "stdout",
     "output_type": "stream",
     "text": [
      "Null accuracy score: 0.8889\n"
     ]
    }
   ],
   "source": [
    "# check null accuracy score\n",
    "null_accuracy = (24/(24+3))\n",
    "print('Null accuracy score: {0:0.4f}'. format(null_accuracy))"
   ]
  },
  {
   "cell_type": "code",
   "execution_count": 32,
   "id": "53bfa610",
   "metadata": {},
   "outputs": [],
   "source": [
    "#We can see that our model accuracy score is 0.8519 but null accuracy score is 0.8889.\n",
    "#So, we can conclude that our Logistic Regression model is doing a very good job in predicting the class labels.\n",
    "#Now, based on the above analysis we can conclude that our classification model accuracy is very good. \n",
    "#Our model is doing a very good job in terms of predicting the class labels.\n",
    "#But, it does not give the underlying distribution of values. Also, it does not tell anything about the type of errors our classifer is making.\n",
    "#We have another tool called Confusion matrix that comes to our rescue."
   ]
  },
  {
   "cell_type": "code",
   "execution_count": 34,
   "id": "3b15d386",
   "metadata": {},
   "outputs": [],
   "source": [
    "#A confusion matrix is a tool for summarizing the performance of a classification algorithm. \n",
    "#A confusion matrix will give us a clear picture of classification model performance \n",
    "#and the types of errors produced by the model.\n",
    "#It gives us a summary of correct and incorrect predictions broken down by each category.\n",
    "#The summary is represented in a tabular form.\n",
    "#Four types of outcomes are possible while evaluating a classification model performance. \n",
    "#These four outcomes are described below:-\n",
    "#True Positives (TP) – True Positives occur when we predict an observation \n",
    "#belongs to a certain class and the observation actually belongs to that class.\n",
    "#True Negatives (TN) – True Negatives occur when we predict an observation does \n",
    "#not belong to a certain class and the observation actually does not belong to that class.\n",
    "#False Positives (FP) – False Positives occur when we predict an observation belongs\n",
    "#to a certain class but the observation actually does not belong to that class. \n",
    "#This type of error is called Type I error.\n",
    "#False Negatives (FN) – False Negatives occur when we predict an observation does not belong \n",
    "#to a certain class but the observation actually belongs to that class. \n",
    "#This is a very serious error and it is called Type II error.\n",
    "#These four outcomes are summarized in a confusion matrix given below."
   ]
  },
  {
   "cell_type": "code",
   "execution_count": 35,
   "id": "c04f3cde",
   "metadata": {},
   "outputs": [
    {
     "name": "stdout",
     "output_type": "stream",
     "text": [
      "Confusion matrix\n",
      "\n",
      " [[23  1]\n",
      " [ 3  0]]\n",
      "\n",
      "True Positives(TP) =  23\n",
      "\n",
      "True Negatives(TN) =  0\n",
      "\n",
      "False Positives(FP) =  1\n",
      "\n",
      "False Negatives(FN) =  3\n"
     ]
    }
   ],
   "source": [
    "# Print the Confusion Matrix and slice it into four pieces\n",
    "\n",
    "from sklearn.metrics import confusion_matrix\n",
    "\n",
    "cm = confusion_matrix(Ytest, y_pred_test)\n",
    "\n",
    "print('Confusion matrix\\n\\n', cm)\n",
    "\n",
    "print('\\nTrue Positives(TP) = ', cm[0,0])\n",
    "\n",
    "print('\\nTrue Negatives(TN) = ', cm[1,1])\n",
    "\n",
    "print('\\nFalse Positives(FP) = ', cm[0,1])\n",
    "\n",
    "print('\\nFalse Negatives(FN) = ', cm[1,0])"
   ]
  },
  {
   "cell_type": "code",
   "execution_count": 36,
   "id": "fce8cab7",
   "metadata": {},
   "outputs": [],
   "source": [
    "#The confusion matrix shows 23 + 0 = 23 correct predictions and 3+ 1 = 4 incorrect predictions.\n",
    "#In this case, we have\n",
    "#True Positives (Actual Positive:1 and Predict Positive:1) - 23\n",
    "#True Negatives (Actual Negative:0 and Predict Negative:0) -0\n",
    "#False Positives (Actual Negative:0 but Predict Positive:1) - 1 (Type I error)\n",
    "#False Negatives (Actual Positive:1 but Predict Negative:0) - 3 (Type II error)"
   ]
  },
  {
   "cell_type": "code",
   "execution_count": 37,
   "id": "d917a29c",
   "metadata": {},
   "outputs": [
    {
     "data": {
      "text/plain": [
       "<AxesSubplot:>"
      ]
     },
     "execution_count": 37,
     "metadata": {},
     "output_type": "execute_result"
    },
    {
     "data": {
      "image/png": "[encoded data removed]",
      "text/plain": [
       "<Figure size 640x480 with 2 Axes>"
      ]
     },
     "metadata": {},
     "output_type": "display_data"
    }
   ],
   "source": [
    "# visualize confusion matrix with seaborn heatmap\n",
    "\n",
    "cm_matrix = pd.DataFrame(data=cm, columns=['Actual Positive:1', 'Actual Negative:0'], \n",
    "                                 index=['Predict Positive:1', 'Predict Negative:0'])\n",
    "\n",
    "sns.heatmap(cm_matrix, annot=True, fmt='d', cmap='YlGnBu')"
   ]
  },
  {
   "cell_type": "code",
   "execution_count": 39,
   "id": "5ca23596",
   "metadata": {},
   "outputs": [],
   "source": [
    "#CLASSIFICATION REPORT\n",
    "#Classification report is another way to evaluate the classification model performance.\n",
    "#It displays the precision, recall, f1 and support scores for the model. "
   ]
  },
  {
   "cell_type": "code",
   "execution_count": 40,
   "id": "b90d4f60",
   "metadata": {},
   "outputs": [
    {
     "name": "stdout",
     "output_type": "stream",
     "text": [
      "              precision    recall  f1-score   support\n",
      "\n",
      "           0       0.88      0.96      0.92        24\n",
      "           1       0.00      0.00      0.00         3\n",
      "\n",
      "    accuracy                           0.85        27\n",
      "   macro avg       0.44      0.48      0.46        27\n",
      "weighted avg       0.79      0.85      0.82        27\n",
      "\n"
     ]
    }
   ],
   "source": [
    "from sklearn.metrics import classification_report\n",
    "print(classification_report(Ytest, y_pred_test))"
   ]
  },
  {
   "cell_type": "code",
   "execution_count": 41,
   "id": "c4ac0d8d",
   "metadata": {},
   "outputs": [],
   "source": [
    "TP = cm[0,0]\n",
    "TN = cm[1,1]\n",
    "FP = cm[0,1]\n",
    "FN = cm[1,0]"
   ]
  },
  {
   "cell_type": "code",
   "execution_count": 42,
   "id": "994e1764",
   "metadata": {},
   "outputs": [
    {
     "name": "stdout",
     "output_type": "stream",
     "text": [
      "Classification accuracy : 0.8519\n"
     ]
    }
   ],
   "source": [
    "# print classification accuracy\n",
    "classification_accuracy = (TP + TN) / float(TP + TN + FP + FN)\n",
    "print('Classification accuracy : {0:0.4f}'.format(classification_accuracy))"
   ]
  },
  {
   "cell_type": "code",
   "execution_count": 43,
   "id": "a8dce0c7",
   "metadata": {},
   "outputs": [
    {
     "name": "stdout",
     "output_type": "stream",
     "text": [
      "Classification error : 0.1481\n"
     ]
    }
   ],
   "source": [
    "# print classification error\n",
    "classification_error = (FP + FN) / float(TP + TN + FP + FN)\n",
    "print('Classification error : {0:0.4f}'.format(classification_error))"
   ]
  },
  {
   "cell_type": "code",
   "execution_count": 44,
   "id": "2596b247",
   "metadata": {},
   "outputs": [],
   "source": [
    "#Precision\n",
    "#Precision can be defined as the percentage of correctly predicted positive outcomes out of all the predicted positive outcomes. It can be given as the ratio of true positives (TP) to the sum of true and false positives (TP + FP).\n",
    "#So, Precision identifies the proportion of correctly predicted positive outcome.\n",
    "#It is more concerned with the positive class than the negative class.\n",
    "#Mathematically, precision can be defined as the ratio of TP to (TP + FP)."
   ]
  },
  {
   "cell_type": "code",
   "execution_count": 45,
   "id": "3aea64dd",
   "metadata": {},
   "outputs": [
    {
     "name": "stdout",
     "output_type": "stream",
     "text": [
      "Precision : 0.9583\n"
     ]
    }
   ],
   "source": [
    "# print precision score\n",
    "precision = TP / float(TP + FP)\n",
    "print('Precision : {0:0.4f}'.format(precision))"
   ]
  },
  {
   "cell_type": "code",
   "execution_count": 46,
   "id": "fbe7fa35",
   "metadata": {},
   "outputs": [],
   "source": [
    "#Recall\n",
    "#Recall can be defined as the percentage of correctly predicted positive outcomes out of all the actual positive outcomes. \n",
    "#It can be given as the ratio of true positives (TP) to the sum of true positives and false negatives (TP + FN). Recall is also called Sensitivity.\n",
    "#Recall identifies the proportion of correctly predicted actual positives.\n",
    "#Mathematically, recall can be given as the ratio of TP to (TP + FN)."
   ]
  },
  {
   "cell_type": "code",
   "execution_count": 47,
   "id": "f505638c",
   "metadata": {},
   "outputs": [
    {
     "name": "stdout",
     "output_type": "stream",
     "text": [
      "Recall or Sensitivity : 0.8846\n"
     ]
    }
   ],
   "source": [
    "recall = TP / float(TP + FN)\n",
    "print('Recall or Sensitivity : {0:0.4f}'.format(recall))"
   ]
  },
  {
   "cell_type": "code",
   "execution_count": 48,
   "id": "95072e59",
   "metadata": {},
   "outputs": [],
   "source": [
    "#True Positive Rate\n",
    "#True Positive Rate is synonymous with Recall."
   ]
  },
  {
   "cell_type": "code",
   "execution_count": 49,
   "id": "528ee62a",
   "metadata": {},
   "outputs": [
    {
     "name": "stdout",
     "output_type": "stream",
     "text": [
      "True Positive Rate : 0.8846\n"
     ]
    }
   ],
   "source": [
    "true_positive_rate = TP / float(TP + FN)\n",
    "print('True Positive Rate : {0:0.4f}'.format(true_positive_rate))"
   ]
  },
  {
   "cell_type": "code",
   "execution_count": 50,
   "id": "66e44eb8",
   "metadata": {},
   "outputs": [],
   "source": [
    "#False Positive Rate"
   ]
  },
  {
   "cell_type": "code",
   "execution_count": 51,
   "id": "8c3bb5e8",
   "metadata": {},
   "outputs": [
    {
     "name": "stdout",
     "output_type": "stream",
     "text": [
      "False Positive Rate : 1.0000\n"
     ]
    }
   ],
   "source": [
    "false_positive_rate = FP / float(FP + TN)\n",
    "print('False Positive Rate : {0:0.4f}'.format(false_positive_rate))"
   ]
  },
  {
   "cell_type": "code",
   "execution_count": 52,
   "id": "fea3a261",
   "metadata": {},
   "outputs": [],
   "source": [
    "#Specificity"
   ]
  },
  {
   "cell_type": "code",
   "execution_count": 53,
   "id": "37a58b52",
   "metadata": {},
   "outputs": [
    {
     "name": "stdout",
     "output_type": "stream",
     "text": [
      "Specificity : 0.0000\n"
     ]
    }
   ],
   "source": [
    "specificity = TN / (TN + FP)\n",
    "print('Specificity : {0:0.4f}'.format(specificity))"
   ]
  },
  {
   "cell_type": "code",
   "execution_count": 54,
   "id": "869ad4a7",
   "metadata": {},
   "outputs": [],
   "source": [
    "#f1-score\n",
    "#f1-score is the weighted harmonic mean of precision and recall. \n",
    "#The best possible f1-score would be 1.0 and the worst would be 0.0. \n",
    "#f1-score is the harmonic mean of precision and recall. \n",
    "#So, f1-score is always lower than accuracy measures as they embed precision and recall into their computation. \n",
    "#The weighted average of f1-score should be used to compare classifier models, not global accuracy.\n",
    "\n",
    "\n",
    "\n",
    "\n",
    "#Support\n",
    "#Support is the actual number of occurrences of the class in our dataset.\n",
    "\n",
    "#Adjusting the threshold level (DOWN)"
   ]
  },
  {
   "cell_type": "code",
   "execution_count": 55,
   "id": "c34f49ce",
   "metadata": {},
   "outputs": [
    {
     "data": {
      "text/plain": [
       "array([[0.51415427, 0.48584573],\n",
       "       [0.73913945, 0.26086055],\n",
       "       [0.64640623, 0.35359377],\n",
       "       [0.58357639, 0.41642361],\n",
       "       [0.57303281, 0.42696719],\n",
       "       [0.57753519, 0.42246481],\n",
       "       [0.78117402, 0.21882598],\n",
       "       [0.6603339 , 0.3396661 ],\n",
       "       [0.59003837, 0.40996163],\n",
       "       [0.50463874, 0.49536126]])"
      ]
     },
     "execution_count": 55,
     "metadata": {},
     "output_type": "execute_result"
    }
   ],
   "source": [
    "# print the first 10 predicted probabilities of two classes- 0 and 1\n",
    "y_pred_prob = logreg.predict_proba(Xtest)[0:10]\n",
    "y_pred_prob"
   ]
  },
  {
   "cell_type": "code",
   "execution_count": 59,
   "id": "207aa17c",
   "metadata": {},
   "outputs": [],
   "source": [
    "#Observations\n",
    "#In each row, the numbers sum to 1.\n",
    "#There are 2 columns which correspond to 2 classes - 0 and 1.\n",
    "#Class 0 - predicted probability that A occurs\n",
    "#Class 1 - predicted probability that S occurs\n",
    "#Importance of predicted probabilities\n",
    "#We can rank the observations by probability of S or A.\n",
    "#predict_proba process\n",
    "#Predicts the probabilities\n",
    "#Choose the class with the highest probability\n",
    "#Classification threshold level\n",
    "#There is a classification threshold level of 0.5.\n",
    "#Class 1 - probability of S is predicted if probability > 0.5.\n",
    "#Class 0 - probability of A is predicted if probability < 0.5."
   ]
  },
  {
   "cell_type": "code",
   "execution_count": 60,
   "id": "ebf46b91",
   "metadata": {},
   "outputs": [
    {
     "data": {
      "text/html": [
       "<div>\n",
       "<style scoped>\n",
       "    .dataframe tbody tr th:only-of-type {\n",
       "        vertical-align: middle;\n",
       "    }\n",
       "\n",
       "    .dataframe tbody tr th {\n",
       "        vertical-align: top;\n",
       "    }\n",
       "\n",
       "    .dataframe thead th {\n",
       "        text-align: right;\n",
       "    }\n",
       "</style>\n",
       "<table border=\"1\" class=\"dataframe\">\n",
       "  <thead>\n",
       "    <tr style=\"text-align: right;\">\n",
       "      <th></th>\n",
       "      <th>Prob of - A (0)</th>\n",
       "      <th>Prob of - S (1)</th>\n",
       "    </tr>\n",
       "  </thead>\n",
       "  <tbody>\n",
       "    <tr>\n",
       "      <th>0</th>\n",
       "      <td>0.514154</td>\n",
       "      <td>0.485846</td>\n",
       "    </tr>\n",
       "    <tr>\n",
       "      <th>1</th>\n",
       "      <td>0.739139</td>\n",
       "      <td>0.260861</td>\n",
       "    </tr>\n",
       "    <tr>\n",
       "      <th>2</th>\n",
       "      <td>0.646406</td>\n",
       "      <td>0.353594</td>\n",
       "    </tr>\n",
       "    <tr>\n",
       "      <th>3</th>\n",
       "      <td>0.583576</td>\n",
       "      <td>0.416424</td>\n",
       "    </tr>\n",
       "    <tr>\n",
       "      <th>4</th>\n",
       "      <td>0.573033</td>\n",
       "      <td>0.426967</td>\n",
       "    </tr>\n",
       "    <tr>\n",
       "      <th>5</th>\n",
       "      <td>0.577535</td>\n",
       "      <td>0.422465</td>\n",
       "    </tr>\n",
       "    <tr>\n",
       "      <th>6</th>\n",
       "      <td>0.781174</td>\n",
       "      <td>0.218826</td>\n",
       "    </tr>\n",
       "    <tr>\n",
       "      <th>7</th>\n",
       "      <td>0.660334</td>\n",
       "      <td>0.339666</td>\n",
       "    </tr>\n",
       "    <tr>\n",
       "      <th>8</th>\n",
       "      <td>0.590038</td>\n",
       "      <td>0.409962</td>\n",
       "    </tr>\n",
       "    <tr>\n",
       "      <th>9</th>\n",
       "      <td>0.504639</td>\n",
       "      <td>0.495361</td>\n",
       "    </tr>\n",
       "  </tbody>\n",
       "</table>\n",
       "</div>"
      ],
      "text/plain": [
       "   Prob of - A (0)  Prob of - S (1)\n",
       "0         0.514154         0.485846\n",
       "1         0.739139         0.260861\n",
       "2         0.646406         0.353594\n",
       "3         0.583576         0.416424\n",
       "4         0.573033         0.426967\n",
       "5         0.577535         0.422465\n",
       "6         0.781174         0.218826\n",
       "7         0.660334         0.339666\n",
       "8         0.590038         0.409962\n",
       "9         0.504639         0.495361"
      ]
     },
     "execution_count": 60,
     "metadata": {},
     "output_type": "execute_result"
    }
   ],
   "source": [
    "# store the probabilities in dataframe\n",
    "y_pred_prob_df = pd.DataFrame(data=y_pred_prob, columns=['Prob of - A (0)', 'Prob of - S (1)'])\n",
    "y_pred_prob_df"
   ]
  },
  {
   "cell_type": "code",
   "execution_count": 61,
   "id": "2d9ef33a",
   "metadata": {},
   "outputs": [
    {
     "data": {
      "text/plain": [
       "array([0.48584573, 0.26086055, 0.35359377, 0.41642361, 0.42696719,\n",
       "       0.42246481, 0.21882598, 0.3396661 , 0.40996163, 0.49536126])"
      ]
     },
     "execution_count": 61,
     "metadata": {},
     "output_type": "execute_result"
    }
   ],
   "source": [
    "# print the first 10 predicted probabilities for class S - Prepared to go home \n",
    "logreg.predict_proba(Xtest)[0:10, 1]"
   ]
  },
  {
   "cell_type": "code",
   "execution_count": 62,
   "id": "8f3f150c",
   "metadata": {},
   "outputs": [],
   "source": [
    "# store the predicted probabilities for class 1 - S\n",
    "\n",
    "y_pred1 = logreg.predict_proba(Xtest)[:, 1]"
   ]
  },
  {
   "cell_type": "code",
   "execution_count": 64,
   "id": "01599faa",
   "metadata": {},
   "outputs": [
    {
     "data": {
      "text/plain": [
       "Text(0, 0.5, 'Frequency')"
      ]
     },
     "execution_count": 64,
     "metadata": {},
     "output_type": "execute_result"
    },
    {
     "data": {
      "image/png": "[encoded data removed]",
      "text/plain": [
       "<Figure size 640x480 with 1 Axes>"
      ]
     },
     "metadata": {},
     "output_type": "display_data"
    }
   ],
   "source": [
    "#plot histogram of predicted probabilities\n",
    "# adjust the font size \n",
    "plt.rcParams['font.size'] = 12\n",
    "# plot histogram with 10 bins\n",
    "plt.hist(y_pred1, bins = 10)\n",
    "# set the title of predicted probabilities\n",
    "plt.title('Histogram of predicted probabilities of S')\n",
    "# set the x-axis limit\n",
    "plt.xlim(0,1)\n",
    "# set the title\n",
    "plt.xlabel('Predicted probabilities of S')\n",
    "plt.ylabel('Frequency')"
   ]
  },
  {
   "cell_type": "code",
   "execution_count": 65,
   "id": "2d036e96",
   "metadata": {},
   "outputs": [],
   "source": [
    "#Observations\n",
    "#We can see that the above histogram is highly positive skewed.\n",
    "# there are more observations with probability between 0.2 and 0.5.\n",
    "#There are no number of observations with probability > 0.5.\n",
    "#So, these small number of observations predict that paitent will be in S."
   ]
  },
  {
   "cell_type": "code",
   "execution_count": null,
   "id": "b9d7ecb3",
   "metadata": {},
   "outputs": [],
   "source": []
  },
  {
   "cell_type": "code",
   "execution_count": null,
   "id": "ff23c3e5",
   "metadata": {},
   "outputs": [],
   "source": []
  },
  {
   "cell_type": "code",
   "execution_count": null,
   "id": "a2bf7a75",
   "metadata": {},
   "outputs": [],
   "source": []
  }
 ],
 "metadata": {
  "kernelspec": {
   "display_name": "Python 3 (ipykernel)",
   "language": "python",
   "name": "python3"
  },
  "language_info": {
   "codemirror_mode": {
    "name": "ipython",
    "version": 3
   },
   "file_extension": ".py",
   "mimetype": "text/x-python",
   "name": "python",
   "nbconvert_exporter": "python",
   "pygments_lexer": "ipython3",
   "version": "3.9.13"
  }
 },
 "nbformat": 4,
 "nbformat_minor": 5
}
